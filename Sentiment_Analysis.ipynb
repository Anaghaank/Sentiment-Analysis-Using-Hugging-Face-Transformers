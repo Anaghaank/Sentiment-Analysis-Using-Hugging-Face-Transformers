{
  "nbformat": 4,
  "nbformat_minor": 0,
  "metadata": {
    "colab": {
      "provenance": []
    },
    "kernelspec": {
      "name": "python3",
      "display_name": "Python 3"
    },
    "language_info": {
      "name": "python"
    }
  },
  "cells": [
    {
      "cell_type": "markdown",
      "source": [
        "# **Sentiment Analysis on Customer Reviews Using Hugging Face Transformers**"
      ],
      "metadata": {
        "id": "fU8RwgwGehr6"
      }
    },
    {
      "cell_type": "markdown",
      "source": [
        "By using a set of sentences:"
      ],
      "metadata": {
        "id": "em3knhcbfpGI"
      }
    },
    {
      "cell_type": "code",
      "source": [
        "# Importing the 'pipeline' function from Hugging Face's 'transformers' library, which allows easy access to pre-trained models\n",
        "from transformers import pipeline\n",
        "\n",
        "# Creating a sentiment analysis pipeline using a pre-trained DistilBERT model fine-tuned on SST-2 dataset.\n",
        "# The model is optimized for determining the sentiment of input text (positive or negative).\n",
        "sentiment_analyzer = pipeline(\"sentiment-analysis\", model=\"distilbert/distilbert-base-uncased-finetuned-sst-2-english\")\n",
        "\n",
        "# A list of customer reviews that we want to analyze for sentiment.\n",
        "sentences = [\n",
        "    \"The product quality is amazing! I'm very satisfied.\",   # Positive sentiment\n",
        "    \"I had a terrible experience with customer service.\",   # Negative sentiment\n",
        "    \"The delivery was quick, but the packaging was damaged.\",  # Mixed sentiment (Negative)\n",
        "    \"Absolutely love this! Best purchase I've made.\",  # Positive sentiment\n",
        "    \"Not worth the money, very disappointed.\"  # Negative sentiment\n",
        "]\n",
        "\n",
        "# Using the sentiment analysis pipeline to analyze the sentiment of each sentence in the list.\n",
        "# The results will contain the predicted sentiment ('POSITIVE' or 'NEGATIVE') along with the confidence score.\n",
        "results = sentiment_analyzer(sentences)\n",
        "\n",
        "# Looping through each sentence and the corresponding result to print the sentiment and confidence for each review.\n",
        "for sentence, result in zip(sentences, results):\n",
        "    # Displaying the sentence, its predicted sentiment, and the model's confidence score (rounded to two decimal places)\n",
        "    print(f\"Sentence: {sentence}\\nSentiment: {result['label']}, Confidence:{result['score']:.2f}\\n\")\n",
        "\n"
      ],
      "metadata": {
        "colab": {
          "base_uri": "https://localhost:8080/"
        },
        "id": "E0-In_0scHsA",
        "outputId": "97264818-65cb-4e0f-a718-eaf3cee93f94"
      },
      "execution_count": 9,
      "outputs": [
        {
          "output_type": "stream",
          "name": "stderr",
          "text": [
            "Device set to use cpu\n"
          ]
        },
        {
          "output_type": "stream",
          "name": "stdout",
          "text": [
            "Sentence: The product quality is amazing! I'm very satisfied.\n",
            "Sentiment: POSITIVE, Confidence:1.00\n",
            "\n",
            "Sentence: I had a terrible experience with customer service.\n",
            "Sentiment: NEGATIVE, Confidence:1.00\n",
            "\n",
            "Sentence: The delivery was quick, but the packaging was damaged.\n",
            "Sentiment: NEGATIVE, Confidence:1.00\n",
            "\n",
            "Sentence: Absolutely love this! Best purchase I've made.\n",
            "Sentiment: POSITIVE, Confidence:1.00\n",
            "\n",
            "Sentence: Not worth the money, very disappointed.\n",
            "Sentiment: NEGATIVE, Confidence:1.00\n",
            "\n"
          ]
        }
      ]
    },
    {
      "cell_type": "markdown",
      "source": [
        "By using the sentences the user provides:"
      ],
      "metadata": {
        "id": "uQKbCEN3fvdJ"
      }
    },
    {
      "cell_type": "code",
      "source": [
        "# Importing the 'pipeline' function from Hugging Face's 'transformers' library, which allows easy access to pre-trained models\n",
        "from transformers import pipeline\n",
        "\n",
        "# Creating a sentiment analysis pipeline using a pre-trained DistilBERT model fine-tuned on SST-2 dataset.\n",
        "# The model is optimized for determining the sentiment of input text (positive or negative).\n",
        "sentiment_analyzer = pipeline(\"sentiment-analysis\", model=\"distilbert/distilbert-base-uncased-finetuned-sst-2-english\")\n",
        "\n",
        "# Asking the user to input the number of sentences they want to analyze\n",
        "num_sentences = int(input(\"How many sentences would you like to analyze? \"))\n",
        "\n",
        "# Creating an empty list to store user inputs\n",
        "sentences = []\n",
        "\n",
        "# Prompting the user to input sentences\n",
        "for i in range(num_sentences):\n",
        "    sentence = input(f\"Enter sentence {i+1}: \")\n",
        "    sentences.append(sentence)\n",
        "\n",
        "# Using the sentiment analysis pipeline to analyze the sentiment of each sentence in the list.\n",
        "# The results will contain the predicted sentiment ('POSITIVE' or 'NEGATIVE') along with the confidence score.\n",
        "results = sentiment_analyzer(sentences)\n",
        "\n",
        "# Looping through each sentence and the corresponding result to print the sentiment and confidence for each review.\n",
        "for sentence, result in zip(sentences, results):\n",
        "    # Displaying the sentence, its predicted sentiment, and the model's confidence score (rounded to two decimal places)\n",
        "    print(f\"\\nSentence: {sentence}\\nSentiment: {result['label']}, Confidence: {result['score']:.2f}\")\n"
      ],
      "metadata": {
        "colab": {
          "base_uri": "https://localhost:8080/"
        },
        "id": "XNDiG2EDdp9z",
        "outputId": "ea6ce98d-a23d-4f65-9e54-8c88bab67000"
      },
      "execution_count": 16,
      "outputs": [
        {
          "output_type": "stream",
          "name": "stderr",
          "text": [
            "Device set to use cpu\n"
          ]
        },
        {
          "output_type": "stream",
          "name": "stdout",
          "text": [
            "How many sentences would you like to analyze? 2\n",
            "Enter sentence 1: Not worth the money, very disappointed.\n",
            "Enter sentence 2: Not worth the money, very disappointed.\n",
            "\n",
            "Sentence: Not worth the money, very disappointed.\n",
            "Sentiment: NEGATIVE, Confidence: 1.00\n",
            "\n",
            "Sentence: Not worth the money, very disappointed.\n",
            "Sentiment: NEGATIVE, Confidence: 1.00\n"
          ]
        }
      ]
    },
    {
      "cell_type": "code",
      "source": [],
      "metadata": {
        "id": "jTkTYotcfAiz"
      },
      "execution_count": null,
      "outputs": []
    }
  ]
}